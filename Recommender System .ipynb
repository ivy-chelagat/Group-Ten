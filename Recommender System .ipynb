{
 "cells": [
  {
   "cell_type": "markdown",
   "id": "f9546e1d-9264-4000-b737-6b8144e95f0f",
   "metadata": {},
   "source": [
    "# RECOMMENDER SYSTEM FOR MOVIES"
   ]
  },
  {
   "cell_type": "markdown",
   "id": "3fd9a015-eb85-4390-8de1-80e92a2dcb3a",
   "metadata": {},
   "source": [
    "# 1. Business Understanding"
   ]
  },
  {
   "cell_type": "markdown",
   "id": "11577fe8-8045-427b-b1a6-fef23b813468",
   "metadata": {},
   "source": [
    "## 1.1 Business Overview\n",
    "We've all been there, scrolling through a endless list of movies, unable to decide what to watch. For streaming giants like Netflix and ShowMax, solving this \"scroll fatigue\" is key to keeping users happy and subscribed. Their secret weapon? The recommendation system. This is a smart tool that suggests new titles based on your past ratings and the preferences of viewers like you.\n",
    "\n",
    "This project taps into that same idea. Using the public MovieLens dataset, we'll develop a model that learns user preferences to predict which films they'll enjoy most. The final output will be a curated list of top 5 movie recommendations for each user, making their viewing experience more personal and enjoyable while boosting platform engagement."
   ]
  },
  {
   "cell_type": "markdown",
   "id": "973e2382-7f1d-4629-8b62-509f08011b31",
   "metadata": {},
   "source": [
    "## 1.2 Problem Statement\n",
    "Endless scrolling is the enemy of enjoyment. When users can't decide what to watch, their engagement drops and streaming platforms face the risk of lower customer retention.\n",
    "\n",
    "Our challenge is to transform this experience. Instead of presenting users with an overwhelming catalog, we need to provide them with a personalized shortlist. This project focuses on building a recommendation engine that does exactly that, predicting user preferences to deliver a top-five list of tailored suggestions, making discovery effortless and viewing more satisfying."
   ]
  },
  {
   "cell_type": "markdown",
   "id": "5d0dd7f0-efc2-4c1e-ac90-8572747e1b91",
   "metadata": {},
   "source": [
    "## 1.3 Business Objectives"
   ]
  },
  {
   "cell_type": "markdown",
   "id": "7965ffd7-3bcc-4f74-9fb1-2dc8c09ebb66",
   "metadata": {},
   "source": [
    "### Main Objective:\n",
    "To build a recommendation model that provides personalized recommendations to users based on their previous ratings and those of similar users."
   ]
  },
  {
   "cell_type": "markdown",
   "id": "608b33f2-eaa9-4516-a38f-e4f30f561e85",
   "metadata": {},
   "source": [
    "### Specific Objectives:\n",
    "1. To explore and preprocess the MovieLens dataset to understand user–movie interaction patterns.\n",
    "\n",
    "2. To implement a collaborative filtering model that predicts movie ratings based on user or item similarity.\n",
    "\n",
    "3. To evaluate the performance of the recommendation model using appropriate metrics such as RMSE or MAE.\n",
    "\n",
    "4. To demonstrate how the recommendation system can be applied in a streaming platform to improve user experience and retention."
   ]
  },
  {
   "cell_type": "markdown",
   "id": "c59bb4f0-3c35-47f9-abd3-552b60dec7cf",
   "metadata": {},
   "source": [
    "## 1.4 Research Questions\n",
    "1. What patterns can be identified in the MovieLens dataset regarding user–movie interactions?\n",
    "\n",
    "2. How can collaborative filtering be used to predict user ratings for movies they haven’t seen?\n",
    "\n",
    "3. How accurately does the model predict user ratings when evaluated using RMSE or MAE metrics?\n",
    "\n",
    "4. How can implementing a recommendation system improve user satisfaction and retention for a streaming service?"
   ]
  },
  {
   "cell_type": "markdown",
   "id": "f15ae8ac-a130-4a7c-9748-b83eb13077e2",
   "metadata": {},
   "source": [
    "## 1.5 Success Criteria"
   ]
  },
  {
   "cell_type": "markdown",
   "id": "3d16843f-d2a6-400b-bd38-a8f82d8e44dd",
   "metadata": {},
   "source": [
    "# 2. Data Understanding\n",
    "1: We have several libraries and tools that are going to used such as advanced CF algorithims (SVD).\n",
    "\n",
    " Dataset, Reader, SVD, train_test_split, accuracy, GridSearchCV are going to be used for building and evaluating the matrix factorization component.\n",
    "\n",
    " TF-IDF and cosine_similarity, will be used to build the Content-Based Filtering component based on movie genres.Lastly,the final model will be serialized for deployment."
   ]
  },
  {
   "cell_type": "code",
   "execution_count": 108,
   "id": "c3ed5cf5-1b65-4831-b81f-2f5493d4d646",
   "metadata": {},
   "outputs": [
    {
     "name": "stdout",
     "output_type": "stream",
     "text": [
      "Requirement already satisfied: scikit-surprise in c:\\anaconda\\lib\\site-packages (1.1.4)\n",
      "Requirement already satisfied: joblib>=1.2.0 in c:\\anaconda\\lib\\site-packages (from scikit-surprise) (1.4.2)\n",
      "Requirement already satisfied: numpy>=1.19.5 in c:\\anaconda\\lib\\site-packages (from scikit-surprise) (1.26.4)\n",
      "Requirement already satisfied: scipy>=1.6.0 in c:\\anaconda\\lib\\site-packages (from scikit-surprise) (1.13.1)\n"
     ]
    }
   ],
   "source": [
    "#Import necessary libraries\n",
    "! pip install scikit-surprise\n",
    "import pandas as pd\n",
    "import numpy as np\n",
    "import random\n",
    "import matplotlib.pyplot as plt\n",
    "import seaborn as sns\n",
    "from sklearn.feature_extraction.text import TfidfVectorizer\n",
    "from surprise.model_selection import cross_validate, GridSearchCV\n",
    "from sklearn.metrics import mean_squared_error, mean_absolute_error\n",
    "from surprise.model_selection import GridSearchCV\n",
    "from sklearn.metrics.pairwise import cosine_similarity\n",
    "from sklearn.preprocessing import MultiLabelBinarizer\n",
    "from surprise import Dataset, Reader, SVD\n",
    "from surprise.model_selection import train_test_split\n",
    "from surprise import accuracy\n",
    "import pickle"
   ]
  },
  {
   "cell_type": "markdown",
   "id": "8f42125e-6448-4058-809d-6be109a45bac",
   "metadata": {},
   "source": [
    "### 2: Loading Data: The ratings.csv and movies.csv files are loaded into Pandas DataFrames.\n",
    " Shape Inspection: The size of the raw datasets is printed, confirming we are starting with 100,836 ratings and 9,742 movies.\n",
    "\n",
    "Merging: The ratings data is merged with the necessary title and genres information from the movies data using movieId as the common key. This creates a single DataFrame (ratings_merged) containing all user-item-rating details along with the movie's descriptive features.\n",
    " \n",
    " Preview: The first 10 rows of the merged data are displayed for a quick verification of the merge operation."
   ]
  },
  {
   "cell_type": "code",
   "execution_count": 8,
   "id": "3c731d45-0598-4986-bc87-fa052397ec84",
   "metadata": {},
   "outputs": [
    {
     "name": "stdout",
     "output_type": "stream",
     "text": [
      "Ratings: (100836, 4)\n",
      "Movies: (9742, 3)\n"
     ]
    },
    {
     "data": {
      "text/html": [
       "<div>\n",
       "<style scoped>\n",
       "    .dataframe tbody tr th:only-of-type {\n",
       "        vertical-align: middle;\n",
       "    }\n",
       "\n",
       "    .dataframe tbody tr th {\n",
       "        vertical-align: top;\n",
       "    }\n",
       "\n",
       "    .dataframe thead th {\n",
       "        text-align: right;\n",
       "    }\n",
       "</style>\n",
       "<table border=\"1\" class=\"dataframe\">\n",
       "  <thead>\n",
       "    <tr style=\"text-align: right;\">\n",
       "      <th></th>\n",
       "      <th>userId</th>\n",
       "      <th>movieId</th>\n",
       "      <th>rating</th>\n",
       "      <th>timestamp</th>\n",
       "      <th>title</th>\n",
       "      <th>genres</th>\n",
       "    </tr>\n",
       "  </thead>\n",
       "  <tbody>\n",
       "    <tr>\n",
       "      <th>0</th>\n",
       "      <td>1</td>\n",
       "      <td>1</td>\n",
       "      <td>4.0</td>\n",
       "      <td>964982703</td>\n",
       "      <td>Toy Story (1995)</td>\n",
       "      <td>Adventure|Animation|Children|Comedy|Fantasy</td>\n",
       "    </tr>\n",
       "    <tr>\n",
       "      <th>1</th>\n",
       "      <td>1</td>\n",
       "      <td>3</td>\n",
       "      <td>4.0</td>\n",
       "      <td>964981247</td>\n",
       "      <td>Grumpier Old Men (1995)</td>\n",
       "      <td>Comedy|Romance</td>\n",
       "    </tr>\n",
       "    <tr>\n",
       "      <th>2</th>\n",
       "      <td>1</td>\n",
       "      <td>6</td>\n",
       "      <td>4.0</td>\n",
       "      <td>964982224</td>\n",
       "      <td>Heat (1995)</td>\n",
       "      <td>Action|Crime|Thriller</td>\n",
       "    </tr>\n",
       "    <tr>\n",
       "      <th>3</th>\n",
       "      <td>1</td>\n",
       "      <td>47</td>\n",
       "      <td>5.0</td>\n",
       "      <td>964983815</td>\n",
       "      <td>Seven (a.k.a. Se7en) (1995)</td>\n",
       "      <td>Mystery|Thriller</td>\n",
       "    </tr>\n",
       "    <tr>\n",
       "      <th>4</th>\n",
       "      <td>1</td>\n",
       "      <td>50</td>\n",
       "      <td>5.0</td>\n",
       "      <td>964982931</td>\n",
       "      <td>Usual Suspects, The (1995)</td>\n",
       "      <td>Crime|Mystery|Thriller</td>\n",
       "    </tr>\n",
       "    <tr>\n",
       "      <th>5</th>\n",
       "      <td>1</td>\n",
       "      <td>70</td>\n",
       "      <td>3.0</td>\n",
       "      <td>964982400</td>\n",
       "      <td>From Dusk Till Dawn (1996)</td>\n",
       "      <td>Action|Comedy|Horror|Thriller</td>\n",
       "    </tr>\n",
       "    <tr>\n",
       "      <th>6</th>\n",
       "      <td>1</td>\n",
       "      <td>101</td>\n",
       "      <td>5.0</td>\n",
       "      <td>964980868</td>\n",
       "      <td>Bottle Rocket (1996)</td>\n",
       "      <td>Adventure|Comedy|Crime|Romance</td>\n",
       "    </tr>\n",
       "    <tr>\n",
       "      <th>7</th>\n",
       "      <td>1</td>\n",
       "      <td>110</td>\n",
       "      <td>4.0</td>\n",
       "      <td>964982176</td>\n",
       "      <td>Braveheart (1995)</td>\n",
       "      <td>Action|Drama|War</td>\n",
       "    </tr>\n",
       "    <tr>\n",
       "      <th>8</th>\n",
       "      <td>1</td>\n",
       "      <td>151</td>\n",
       "      <td>5.0</td>\n",
       "      <td>964984041</td>\n",
       "      <td>Rob Roy (1995)</td>\n",
       "      <td>Action|Drama|Romance|War</td>\n",
       "    </tr>\n",
       "    <tr>\n",
       "      <th>9</th>\n",
       "      <td>1</td>\n",
       "      <td>157</td>\n",
       "      <td>5.0</td>\n",
       "      <td>964984100</td>\n",
       "      <td>Canadian Bacon (1995)</td>\n",
       "      <td>Comedy|War</td>\n",
       "    </tr>\n",
       "  </tbody>\n",
       "</table>\n",
       "</div>"
      ],
      "text/plain": [
       "   userId  movieId  rating  timestamp                        title  \\\n",
       "0       1        1     4.0  964982703             Toy Story (1995)   \n",
       "1       1        3     4.0  964981247      Grumpier Old Men (1995)   \n",
       "2       1        6     4.0  964982224                  Heat (1995)   \n",
       "3       1       47     5.0  964983815  Seven (a.k.a. Se7en) (1995)   \n",
       "4       1       50     5.0  964982931   Usual Suspects, The (1995)   \n",
       "5       1       70     3.0  964982400   From Dusk Till Dawn (1996)   \n",
       "6       1      101     5.0  964980868         Bottle Rocket (1996)   \n",
       "7       1      110     4.0  964982176            Braveheart (1995)   \n",
       "8       1      151     5.0  964984041               Rob Roy (1995)   \n",
       "9       1      157     5.0  964984100        Canadian Bacon (1995)   \n",
       "\n",
       "                                        genres  \n",
       "0  Adventure|Animation|Children|Comedy|Fantasy  \n",
       "1                               Comedy|Romance  \n",
       "2                        Action|Crime|Thriller  \n",
       "3                             Mystery|Thriller  \n",
       "4                       Crime|Mystery|Thriller  \n",
       "5                Action|Comedy|Horror|Thriller  \n",
       "6               Adventure|Comedy|Crime|Romance  \n",
       "7                             Action|Drama|War  \n",
       "8                     Action|Drama|Romance|War  \n",
       "9                                   Comedy|War  "
      ]
     },
     "execution_count": 8,
     "metadata": {},
     "output_type": "execute_result"
    }
   ],
   "source": [
    "#Load Csv files\n",
    "ratings=pd.read_csv('ratings.csv')\n",
    "movies=pd.read_csv('movies.csv')\n",
    "print('Ratings:', ratings.shape)\n",
    "print('Movies:', movies.shape)\n",
    "#Merging ratings with Movies\n",
    "ratings_merged= ratings.merge(movies[['movieId', 'title', 'genres']], on='movieId', how='left')\n",
    "ratings_merged.head(10)"
   ]
  },
  {
   "cell_type": "markdown",
   "id": "fedbe064-f063-473e-b32c-b6f23e01f368",
   "metadata": {},
   "source": [
    "### 3:Exploratory Data Analysis: \n",
    " Dataset Size: Users: 610 unique users.Items (Movies): 9,724 unique movies. (Note: The user-entered code accidentally printed the user count for items, but the movieId unique count is 9,724 based on the movies.csv file structure).Interactions: 100,836 total ratings.\n",
    "\n",
    " User Activity (Interactions per User):The average user has provided 165.7 ratings, which is quite high.Min: 20 ratings (Confirming the MovieLens condition that all included users have rated at least 20 movies).Max: 7,376 ratings (Indicating a few highly active \"super-users\").\n",
    "\n",
    " Rating Distribution:The ratings are centered around the high end, with a median and mean rating of 4.0.Mean Rating: 3.501 (Out of 5.0)Std Dev: 1.043These statistics confirm the data is from a relatively small but highly active group of users, and ratings are generally positive."
   ]
  },
  {
   "cell_type": "code",
   "execution_count": 9,
   "id": "99b3a686-9891-462f-8a7a-c75c0cfeae76",
   "metadata": {},
   "outputs": [
    {
     "name": "stdout",
     "output_type": "stream",
     "text": [
      "Users: 610, Items: 610, Interactions: 100836\n",
      "count     610.000000\n",
      "mean      165.304918\n",
      "std       269.480584\n",
      "min        20.000000\n",
      "25%        35.000000\n",
      "50%        70.500000\n",
      "75%       168.000000\n",
      "max      2698.000000\n",
      "dtype: float64\n"
     ]
    },
    {
     "data": {
      "text/plain": [
       "count    100836.000000\n",
       "mean          3.501557\n",
       "std           1.042529\n",
       "min           0.500000\n",
       "25%           3.000000\n",
       "50%           3.500000\n",
       "75%           4.000000\n",
       "max           5.000000\n",
       "Name: rating, dtype: float64"
      ]
     },
     "execution_count": 9,
     "metadata": {},
     "output_type": "execute_result"
    }
   ],
   "source": [
    "#Number of Users,Items and interactions\n",
    "n_users= ratings['userId'].nunique()\n",
    "n_items= ratings['movieId'].nunique()\n",
    "print(f'Users: {n_users}, Items: {n_users}, Interactions: {len(ratings)}')\n",
    "#Count Interactions per user\n",
    "user_counts= ratings.groupby('userId').size().describe()\n",
    "print(user_counts)\n",
    "# ratings distribution\n",
    "ratings['rating'].describe()"
   ]
  },
  {
   "cell_type": "markdown",
   "id": "e25110c5-41be-4fa9-9505-2e6c3f89dd1a",
   "metadata": {},
   "source": [
    "### 4:Temporal Train/Test Split\n",
    " This code block implements a Temporal Leave-One-Out Cross-Validation strategy, which is important for evaluating sequential and time-series-dependent data like a recommendation system.\n",
    "\n",
    " Why Temporal Split?Avoids Data Leakage: It ensures that the model is trained only on events that happened before the events it is asked to predict. A random split would leak future information.Simulates Production: We train on a user's past behavior and test on their most recent behavior, mimicking a real-world scenario where the model predicts the user's next action.\n",
    "\n",
    " Split Details:The timestamp is converted from Unix seconds to a proper datetime object.\n",
    "\n",
    " The data is sorted by userId and timestamp.\n",
    "\n",
    " The last (most recent) rating for every single user is extracted to form the Test Set (test_df).\n",
    "\n",
    "All remaining ratings are used for the Train Set (train_df).\n",
    "\n",
    "The resulting split is:Total Interactions: 100,836, Train Interactions: 100,226 (Used for model training) Test Interaction\n"
   ]
  },
  {
   "cell_type": "code",
   "execution_count": 10,
   "id": "3c3ff7b5-afdb-4104-8323-842561f9210a",
   "metadata": {},
   "outputs": [
    {
     "name": "stdout",
     "output_type": "stream",
     "text": [
      "Train Interactions: 100226\n",
      "Test Interactions (held-out last per user): 610\n"
     ]
    }
   ],
   "source": [
    "#Data Type Conversion for Timestamps\n",
    "if 'timestamp' in ratings.columns:\n",
    "    ratings['timestamp'] = pd.to_datetime(ratings['timestamp'], unit='s')\n",
    "# Handling Timestamps and Sorting\n",
    "ratings_sorted = ratings.sort_values(['userId', 'timestamp']) if 'timestamp' in ratings.columns else ratings.sort_values (['userId'])\n",
    "#Identifying the Test Set Indices (Leave-One-Out)\n",
    "test_idx = ratings_sorted.groupby('userId').tail(1).index\n",
    "# Creating the Final Train and Test DataFrames\n",
    "test_df = ratings.loc[test_idx].reset_index(drop=True)\n",
    "train_df = ratings.drop(test_idx).reset_index(drop=True)\n",
    "#Showing the resulting split.\n",
    "print('Train Interactions:', len(train_df))\n",
    "print('Test Interactions (held-out last per user):', len(test_df))\n"
   ]
  },
  {
   "cell_type": "markdown",
   "id": "d9a4377d-db11-45c4-9f5d-a6d1289fcb3c",
   "metadata": {},
   "source": [
    "### 5:Data Preparation for Surprise (CF)\n",
    "The code below prepares the Pandas DataFrame into the specific data structure required by the scikit-surprise library. This is a necessary step to utilize algorithms like Singular Value Decomposition (SVD).\n",
    "\n",
    " Key Components: Reader: The Reader object is initialized to inform Surprise about the expected rating scale, which is (0.5,5.0) for the MovieLens dataset. This normalization is vital for the matrix factorization algorithms.Dataset.load_from_df: This function transforms the Pandas DataFrame, containing the essential userId, movieId, and rating columns, into a Dataset object.\n",
    "\n",
    " Datasets Created: data_train: This object is loaded using the raw ratings DataFrame. Crucially, since you performed a manual temporal split previously, this full dataset object will be internally split later to feed the model only the train_df data.full_train: A duplicate object often created for procedures where the model is trained on all available data (e.g., after the best hyperparameters are found) to generate final recommendations.\n",
    "\n",
    "This step finalizes the data's readiness for the Matrix Factorization training phase."
   ]
  },
  {
   "cell_type": "code",
   "execution_count": 112,
   "id": "ee09a16d-9a2c-49fc-ac8d-b5142e09ceea",
   "metadata": {},
   "outputs": [
    {
     "name": "stdout",
     "output_type": "stream",
     "text": [
      "<surprise.reader.Reader object at 0x000001F243EDA450>\n",
      "<surprise.dataset.DatasetAutoFolds object at 0x000001F243E9A3C0>\n",
      "<surprise.dataset.DatasetAutoFolds object at 0x000001F20CF780E0>\n"
     ]
    }
   ],
   "source": [
    "#Defining the Rating Scale\n",
    "reader= Reader(rating_scale=(0.5,5.0))\n",
    "#Loading Data into Surprise Format\n",
    "data_train= Dataset.load_from_df(ratings[['userId', 'movieId', 'rating']], reader)\n",
    "full_train= Dataset.load_from_df(ratings[['userId', 'movieId', 'rating']], reader)\n",
    "\n",
    "\n",
    "print(reader)\n",
    "print(data_train)\n",
    "print(full_train)\n"
   ]
  },
  {
   "cell_type": "markdown",
   "id": "65fca6e9-19eb-41cd-bd03-e01efe802b17",
   "metadata": {},
   "source": [
    "### 6:Hyperparameter Tuning for Collaborative Filtering (SVD):\n",
    "The code below performs Grid Search Cross-Validation (GridSearchCV) to find the optimal set of parameters for the Singular Value Decomposition (SVD) matrix factorization algorithm. This is the crucial step for optimizing the performance of the Collaborative Filtering component.\n",
    "\n",
    " ## Tuning Strategy\n",
    " - Algorithm: SVD is chosen as it's highly effective for recommendation systems, decomposing the user-item matrix into lower-dimensional user and item feature matrices (latent factors).\n",
    "\n",
    " - Parameters Tuned (param_grid):\n",
    "\n",
    " - n_factors (Latent Factors): The dimensionality of the latent factor space (e.g., 20, 50, 100). This represents how many hidden features describe user tastes and movie properties.\n",
    "\n",
    " - lr_all (Learning Rate): Controls the step size at each iteration of stochastic gradient descent.\n",
    "\n",
    " - reg_all (Regularization Term): Prevents overfitting by penalizing large parameter values.\n",
    "\n",
    "* Evaluation:\n",
    "\n",
    " - Cross-Validation: The training data is split into 3 folds (cv=3).\n",
    "\n",
    " - Metric: The model is optimized to minimize the Root Mean Squared Error (RMSE), which is the standard measure of prediction accuracy for explicit rating data.\n",
    "\n",
    "* Output: The search returns the combination of parameters that achieved the lowest average RMSE across the 3 folds."
   ]
  },
  {
   "cell_type": "code",
   "execution_count": 49,
   "id": "305a891a-4505-4f79-ae3d-997f3c480fd4",
   "metadata": {
    "scrolled": true
   },
   "outputs": [
    {
     "name": "stdout",
     "output_type": "stream",
     "text": [
      "Best RMSE score: 0.8745693693964692\n",
      "Best params (RMSE): {'n_factors': 20, 'lr_all': 0.005, 'reg_all': 0.05}\n"
     ]
    }
   ],
   "source": [
    "#Defining the Search Space\n",
    "param_grid = {\n",
    "    'n_factors':[20, 50, 100],\n",
    "    'lr_all':[0.002, 0.005],\n",
    "    'reg_all': [0.02, 0.05]\n",
    "}\n",
    "#Setting up the Grid Search\n",
    "gs= GridSearchCV(SVD, param_grid, measures=['rmse', 'mae'], cv=3, n_jobs=-1)\n",
    "#Execution and Result\n",
    "gs.fit(data_train)\n",
    "\n",
    "print('Best RMSE score:', gs.best_score['rmse'])\n",
    "print('Best params (RMSE):', gs.best_params['rmse'])\n",
    "\n",
    "best_params=gs.best_params['rmse']\n"
   ]
  },
  {
   "cell_type": "markdown",
   "id": "1e810693-98ec-47c9-b46a-885e52e491d9",
   "metadata": {},
   "source": [
    "### 7:  Final Collaborative Filtering (SVD) Model Training and Evaluation.\n",
    "This block finalizes the training of the Collaborative Filtering (CF) model using the optimal hyperparameters found during the grid search, and then evaluates its real-world performance using the held-out temporal test set.\n",
    "\n",
    "### Key Steps:\n",
    "\n",
    "* Final Training (best_model):\n",
    "\n",
    "* The model (Singular Value Decomposition, SVD) is initialized using the best parameters (n\\_factors, lr\\_all, reg\\_all) determined by GridSearchCV to ensure peak predictive performance.\n",
    "\n",
    "* The model is trained on the full training dataset (trainset), which includes all user interactions before the held-out test ratings.\n",
    "\n",
    "* Test Set Preparation:\n",
    "\n",
    "* The test_df (which contains the single, most recent rating for every user from the temporal split) is converted into a list of tuples ((user\\_id, movie\\_id, true\\_rating)), which is the exact format required by the surprise library's .test() function.\n",
    "\n",
    "* 5 Fold Cross Validation output will contain the average RMSE and MAE across the five folds. This gives a robust, unbiased estimate of how well the model is expected to perform on new, unseen data. This is often considered a more reliable performance estimate than a single train/test split.\n",
    "\n",
    "* Evaluation:\n",
    "\n",
    "* Predictions are generated for every item in the test set.\n",
    "\n",
    "* The final performance is measured using the standard regression metrics for rating prediction:\n",
    "\n",
    "* RMSE (Root Mean Squared Error): The primary metric, which heavily penalizes large prediction errors.\n",
    "\n",
    "* MAE (Mean Absolute Error): Measures the average magnitude of prediction error.\n",
    "\n",
    "* These final RMSE and MAE scores represent the model's expected accuracy when predicting a user's future rating behavior.\n"
   ]
  },
  {
   "cell_type": "code",
   "execution_count": 110,
   "id": "03d8b329-4bd2-43a3-965c-64b56756cd27",
   "metadata": {},
   "outputs": [
    {
     "name": "stdout",
     "output_type": "stream",
     "text": [
      "Evaluating RMSE, MAE of algorithm SVD on 5 split(s).\n",
      "\n",
      "                  Fold 1  Fold 2  Fold 3  Fold 4  Fold 5  Mean    Std     \n",
      "RMSE (testset)    0.8781  0.8653  0.8625  0.8701  0.8702  0.8692  0.0053  \n",
      "MAE (testset)     0.6764  0.6642  0.6646  0.6703  0.6678  0.6687  0.0045  \n",
      "Fit time          0.88    0.79    0.70    0.72    0.62    0.74    0.09    \n",
      "Test time         0.18    2.25    0.14    0.15    0.13    0.57    0.84    \n",
      "RMSE: 0.8993, MAE: 0.6958\n"
     ]
    }
   ],
   "source": [
    "#Final Model Training\n",
    "trainset = full_train.build_full_trainset()\n",
    "best_model = SVD(n_factors=best_params['n_factors'], lr_all=best_params['lr_all'], reg_all=best_params['reg_all'], biased=True, random_state=42)\n",
    "best_model.fit(trainset)\n",
    "#Test Set Preparation for Surprise\n",
    "raw_testset= list(zip(test_df['userId'].astype(str).tolist(),test_df['movieId'].astype(str).tolist(), test_df['rating'].astype(str).tolist()))\n",
    "testset_for_suprise= [(row.userId, row.movieId, row.rating) for row in test_df.itertuples()]\n",
    "#5 Fold Cross-Validation\n",
    "cross_val_results = cross_validate(best_model, data_train, cv = 5, measures = ['RMSE', 'MAE'], verbose = True)\n",
    "\n",
    "#Evaluate the Testset\n",
    "predictions=best_model.test(testset_for_suprise)\n",
    "rmse= accuracy.rmse(predictions, verbose=False)\n",
    "mae= accuracy.mae(predictions, verbose=False)\n",
    "print(f'RMSE: {rmse:.4f}, MAE: {mae:.4f}')\n",
    "\n",
    "\n",
    "\n"
   ]
  },
  {
   "cell_type": "markdown",
   "id": "9b1eaa7e-4726-4e5e-9ce5-60cfbc5808f5",
   "metadata": {},
   "source": [
    "### 8:Content-Based Filtering (CBF) \n",
    "  Content-Based Filtering (CBF) implements a basic movie recommendation system based purely on genre similarity. \n",
    "\n",
    "* Key Steps:\n",
    "* compute_genre_similarity(movies):This function computes a similarity matrix showing how similar each pair of movies is, based on their genres.\n",
    "\n",
    "* One-Hot Encode Genres:Converts the list of genres for each movie into a numerical vector (a row in a matrix) suitable for mathematical comparison. This process is called One-Hot Encoding using the MultiLabelBinarizer from scikit-learn.\n",
    "\n",
    "* Compute Cosine Similarity:Measures the similarity between every pair of movies based on their genre vectors.\n",
    "\n",
    "* genre_tfidf = tfidf.fit_transform(...): Transforms the list of movie genres into a sparse matrix where each row is a movie and each column is a genre term. TF-IDF gives higher weight to genres that are unique to a few movies, reducing the importance of common genres like 'Drama' or 'Comedy'.\n",
    "\n",
    "* get_similar(movie, movies, genre_similarity, top_n=5) Function\n",
    "\n",
    "*  Movie Check and Index:Finds the row index in the movies DataFrame that corresponds to the input movie.\n",
    "\n",
    "* Return Recommended Movies:Retrieves and returns the actual data (title and genres) for the recommended movies.\n",
    "\n",
    "* movieid_to_idx and idx_to_movieid: These dictionaries are created to map the internal DataFrame row index to the external MovieLens movieId and back. This is essential for quickly looking up a movie's similarity scores in the matrix using its movieId.\n",
    "\n",
    "* Output:Find the top 5 movies that share the most genres with \"Toy Story (1995)\"."
   ]
  },
  {
   "cell_type": "code",
   "execution_count": 86,
   "id": "733cd9dc-0a6d-41c1-801d-beb882b8665f",
   "metadata": {},
   "outputs": [
    {
     "name": "stdout",
     "output_type": "stream",
     "text": [
      "                                               title  \\\n",
      "8219                                    Turbo (2013)   \n",
      "3568                           Monsters, Inc. (2001)   \n",
      "9430                                    Moana (2016)   \n",
      "3000                Emperor's New Groove, The (2000)   \n",
      "2809  Adventures of Rocky and Bullwinkle, The (2000)   \n",
      "\n",
      "                                                 genres  \n",
      "8219  [Adventure, Animation, Children, Comedy, Fantasy]  \n",
      "3568  [Adventure, Animation, Children, Comedy, Fantasy]  \n",
      "9430  [Adventure, Animation, Children, Comedy, Fantasy]  \n",
      "3000  [Adventure, Animation, Children, Comedy, Fantasy]  \n",
      "2809  [Adventure, Animation, Children, Comedy, Fantasy]  \n"
     ]
    }
   ],
   "source": [
    "\n",
    "def compute_genre_similarity(movies):\n",
    "    # Ensure genres are lists (in case they’re strings like \"Action|Adventure\")\n",
    "    movies['genres'] = movies['genres'].apply(lambda x: x.split('|') if isinstance(x, str) else x)\n",
    "    \n",
    "    # One-hot encode using MultiLabelBinarizer\n",
    "    mlb = MultiLabelBinarizer()\n",
    "    genre_matrix = mlb.fit_transform(movies['genres'])\n",
    "    \n",
    "    # Compute cosine similarity between genre vectors\n",
    "    genre_similarity = cosine_similarity(genre_matrix, genre_matrix)\n",
    "    return genre_similarity\n",
    "\n",
    "def get_similar(movie, movies, genre_similarity, top_n=5):\n",
    "    \"\"\"Find movies most similar to a given movie based on genre.\"\"\"\n",
    "    if movie not in movies['title'].values:\n",
    "        return \"Movie Not Found\"\n",
    "    \n",
    "    # Get the movie index\n",
    "    movie_idx = movies.index[movies['title'] == movie][0]\n",
    "    \n",
    "    # Get indices of top similar movies\n",
    "    similar_indices = genre_similarity[movie_idx].argsort()[::-1][1:top_n + 1]\n",
    "    \n",
    "    return movies.iloc[similar_indices][['title', 'genres']]\n",
    "\n",
    "# Compute genre similarity matrix\n",
    "similar_genres = compute_genre_similarity(movies)\n",
    "\n",
    "# Example usage\n",
    "recommended_movies = get_similar(\"Toy Story (1995)\", movies, similar_genres)\n",
    "print(recommended_movies)\n"
   ]
  },
  {
   "cell_type": "markdown",
   "id": "070aebb3-78ed-48a7-96d2-72593cb3ef82",
   "metadata": {},
   "source": [
    "### 9:Svd Predictions\n",
    "* This is used to predict how a specific user would rate every single movie in the dataset.\n",
    "* Function Definition and Inputs:The function is designed to generate a list of all movies along with their predicted rating score for a given user.\n",
    "* Movie IDs:Create a complete list of every unique movie ID available in the entire dataset.\n",
    "* Predict Ratings Using SVD Model:Utilize the trained SVD model to generate a predicted rating for the target user for every single movie.\n",
    "* Create Pd Dataframe:Structure the raw prediction results into a readable pandas DataFrame\n",
    "* Merge with Movie Titles:Add the movie titles to the predictions DataFrame, making the results useful and readable."
   ]
  },
  {
   "cell_type": "code",
   "execution_count": 58,
   "id": "69bf01ea-52a1-498a-ae9f-0aaaeb38f60a",
   "metadata": {},
   "outputs": [],
   "source": [
    "def get_svd_predictions(user_id, movies, ratings, best_model):\n",
    "\n",
    "    \"\"\"\n",
    "    Parameters:\n",
    "    User_Id: The Id of the user\n",
    "    movies: The movies dataset with movie IDs and titles\n",
    "    ratings: The ratings dataset (not used but included for consistency)\n",
    "    best_model: The model with the best gridsearchcv parameters\n",
    "    \"\"\"\n",
    "\n",
    "    # Get all unique movie IDs from the movies dataset.\n",
    "    all_movie_ids = movies['movieId'].unique()\n",
    "\n",
    "    # Predict ratings for all movies using the SVD model.\n",
    "    predictions = [best_model.predict(uid = user_id, iid = mid) for mid in all_movie_ids]\n",
    "\n",
    "    # Creating a DataFrame containing the predicted ratings.\n",
    "    pred_df = pd.DataFrame([(pred.iid, pred.est) for pred in predictions], columns = ['movieId', 'svd_score'])\n",
    "\n",
    "    # merging the two dataframes to include movie titles for readability.\n",
    "    pred_df = pred_df.merge(movies[['movieId', 'title']], on = 'movieId')\n",
    "\n",
    "    return pred_df"
   ]
  },
  {
   "cell_type": "code",
   "execution_count": 59,
   "id": "274ee8a6-5e83-4e4f-89de-f0045e4bcbdb",
   "metadata": {},
   "outputs": [
    {
     "data": {
      "text/html": [
       "<div>\n",
       "<style scoped>\n",
       "    .dataframe tbody tr th:only-of-type {\n",
       "        vertical-align: middle;\n",
       "    }\n",
       "\n",
       "    .dataframe tbody tr th {\n",
       "        vertical-align: top;\n",
       "    }\n",
       "\n",
       "    .dataframe thead th {\n",
       "        text-align: right;\n",
       "    }\n",
       "</style>\n",
       "<table border=\"1\" class=\"dataframe\">\n",
       "  <thead>\n",
       "    <tr style=\"text-align: right;\">\n",
       "      <th></th>\n",
       "      <th>movieId</th>\n",
       "      <th>svd_score</th>\n",
       "      <th>title</th>\n",
       "    </tr>\n",
       "  </thead>\n",
       "  <tbody>\n",
       "    <tr>\n",
       "      <th>0</th>\n",
       "      <td>1</td>\n",
       "      <td>3.787188</td>\n",
       "      <td>Toy Story (1995)</td>\n",
       "    </tr>\n",
       "    <tr>\n",
       "      <th>1</th>\n",
       "      <td>2</td>\n",
       "      <td>3.503832</td>\n",
       "      <td>Jumanji (1995)</td>\n",
       "    </tr>\n",
       "    <tr>\n",
       "      <th>2</th>\n",
       "      <td>3</td>\n",
       "      <td>3.204753</td>\n",
       "      <td>Grumpier Old Men (1995)</td>\n",
       "    </tr>\n",
       "    <tr>\n",
       "      <th>3</th>\n",
       "      <td>4</td>\n",
       "      <td>2.909654</td>\n",
       "      <td>Waiting to Exhale (1995)</td>\n",
       "    </tr>\n",
       "    <tr>\n",
       "      <th>4</th>\n",
       "      <td>5</td>\n",
       "      <td>2.870895</td>\n",
       "      <td>Father of the Bride Part II (1995)</td>\n",
       "    </tr>\n",
       "    <tr>\n",
       "      <th>...</th>\n",
       "      <td>...</td>\n",
       "      <td>...</td>\n",
       "      <td>...</td>\n",
       "    </tr>\n",
       "    <tr>\n",
       "      <th>9737</th>\n",
       "      <td>193581</td>\n",
       "      <td>3.427952</td>\n",
       "      <td>Black Butler: Book of the Atlantic (2017)</td>\n",
       "    </tr>\n",
       "    <tr>\n",
       "      <th>9738</th>\n",
       "      <td>193583</td>\n",
       "      <td>3.396787</td>\n",
       "      <td>No Game No Life: Zero (2017)</td>\n",
       "    </tr>\n",
       "    <tr>\n",
       "      <th>9739</th>\n",
       "      <td>193585</td>\n",
       "      <td>3.481852</td>\n",
       "      <td>Flint (2017)</td>\n",
       "    </tr>\n",
       "    <tr>\n",
       "      <th>9740</th>\n",
       "      <td>193587</td>\n",
       "      <td>3.386896</td>\n",
       "      <td>Bungo Stray Dogs: Dead Apple (2018)</td>\n",
       "    </tr>\n",
       "    <tr>\n",
       "      <th>9741</th>\n",
       "      <td>193609</td>\n",
       "      <td>3.466628</td>\n",
       "      <td>Andrew Dice Clay: Dice Rules (1991)</td>\n",
       "    </tr>\n",
       "  </tbody>\n",
       "</table>\n",
       "<p>9742 rows × 3 columns</p>\n",
       "</div>"
      ],
      "text/plain": [
       "      movieId  svd_score                                      title\n",
       "0           1   3.787188                           Toy Story (1995)\n",
       "1           2   3.503832                             Jumanji (1995)\n",
       "2           3   3.204753                    Grumpier Old Men (1995)\n",
       "3           4   2.909654                   Waiting to Exhale (1995)\n",
       "4           5   2.870895         Father of the Bride Part II (1995)\n",
       "...       ...        ...                                        ...\n",
       "9737   193581   3.427952  Black Butler: Book of the Atlantic (2017)\n",
       "9738   193583   3.396787               No Game No Life: Zero (2017)\n",
       "9739   193585   3.481852                               Flint (2017)\n",
       "9740   193587   3.386896        Bungo Stray Dogs: Dead Apple (2018)\n",
       "9741   193609   3.466628        Andrew Dice Clay: Dice Rules (1991)\n",
       "\n",
       "[9742 rows x 3 columns]"
      ]
     },
     "execution_count": 59,
     "metadata": {},
     "output_type": "execute_result"
    }
   ],
   "source": [
    "get_svd_predictions(5, movies, ratings, best_model)"
   ]
  },
  {
   "cell_type": "markdown",
   "id": "916b2486-434d-4072-8f94-e3e6e97fbb1a",
   "metadata": {},
   "source": [
    "## 10:Cold-Start Logic\n",
    "* It utilizes a genre-based preference score for every movie, tailored to a specific user, or based on a global average if the user has no ratings."
   ]
  },
  {
   "cell_type": "code",
   "execution_count": 106,
   "id": "c83adf7c-e2ea-4028-8cf0-fea829fc2c96",
   "metadata": {},
   "outputs": [
    {
     "name": "stdout",
     "output_type": "stream",
     "text": [
      "user 99999 has no ratings, using global genre preferences.\n"
     ]
    },
    {
     "data": {
      "text/html": [
       "<div>\n",
       "<style scoped>\n",
       "    .dataframe tbody tr th:only-of-type {\n",
       "        vertical-align: middle;\n",
       "    }\n",
       "\n",
       "    .dataframe tbody tr th {\n",
       "        vertical-align: top;\n",
       "    }\n",
       "\n",
       "    .dataframe thead th {\n",
       "        text-align: right;\n",
       "    }\n",
       "</style>\n",
       "<table border=\"1\" class=\"dataframe\">\n",
       "  <thead>\n",
       "    <tr style=\"text-align: right;\">\n",
       "      <th></th>\n",
       "      <th>movieId</th>\n",
       "      <th>title</th>\n",
       "      <th>genre_score</th>\n",
       "    </tr>\n",
       "  </thead>\n",
       "  <tbody>\n",
       "    <tr>\n",
       "      <th>0</th>\n",
       "      <td>1</td>\n",
       "      <td>Toy Story (1995)</td>\n",
       "      <td>0.208391</td>\n",
       "    </tr>\n",
       "    <tr>\n",
       "      <th>1</th>\n",
       "      <td>2</td>\n",
       "      <td>Jumanji (1995)</td>\n",
       "      <td>0.088743</td>\n",
       "    </tr>\n",
       "    <tr>\n",
       "      <th>2</th>\n",
       "      <td>3</td>\n",
       "      <td>Grumpier Old Men (1995)</td>\n",
       "      <td>0.268527</td>\n",
       "    </tr>\n",
       "    <tr>\n",
       "      <th>3</th>\n",
       "      <td>4</td>\n",
       "      <td>Waiting to Exhale (1995)</td>\n",
       "      <td>0.403241</td>\n",
       "    </tr>\n",
       "    <tr>\n",
       "      <th>4</th>\n",
       "      <td>5</td>\n",
       "      <td>Father of the Bride Part II (1995)</td>\n",
       "      <td>0.276886</td>\n",
       "    </tr>\n",
       "    <tr>\n",
       "      <th>...</th>\n",
       "      <td>...</td>\n",
       "      <td>...</td>\n",
       "      <td>...</td>\n",
       "    </tr>\n",
       "    <tr>\n",
       "      <th>9737</th>\n",
       "      <td>193581</td>\n",
       "      <td>Black Butler: Book of the Atlantic (2017)</td>\n",
       "      <td>0.232424</td>\n",
       "    </tr>\n",
       "    <tr>\n",
       "      <th>9738</th>\n",
       "      <td>193583</td>\n",
       "      <td>No Game No Life: Zero (2017)</td>\n",
       "      <td>0.205447</td>\n",
       "    </tr>\n",
       "    <tr>\n",
       "      <th>9739</th>\n",
       "      <td>193585</td>\n",
       "      <td>Flint (2017)</td>\n",
       "      <td>0.318679</td>\n",
       "    </tr>\n",
       "    <tr>\n",
       "      <th>9740</th>\n",
       "      <td>193587</td>\n",
       "      <td>Bungo Stray Dogs: Dead Apple (2018)</td>\n",
       "      <td>0.102097</td>\n",
       "    </tr>\n",
       "    <tr>\n",
       "      <th>9741</th>\n",
       "      <td>193609</td>\n",
       "      <td>Andrew Dice Clay: Dice Rules (1991)</td>\n",
       "      <td>0.276886</td>\n",
       "    </tr>\n",
       "  </tbody>\n",
       "</table>\n",
       "<p>9742 rows × 3 columns</p>\n",
       "</div>"
      ],
      "text/plain": [
       "      movieId                                      title  genre_score\n",
       "0           1                           Toy Story (1995)     0.208391\n",
       "1           2                             Jumanji (1995)     0.088743\n",
       "2           3                    Grumpier Old Men (1995)     0.268527\n",
       "3           4                   Waiting to Exhale (1995)     0.403241\n",
       "4           5         Father of the Bride Part II (1995)     0.276886\n",
       "...       ...                                        ...          ...\n",
       "9737   193581  Black Butler: Book of the Atlantic (2017)     0.232424\n",
       "9738   193583               No Game No Life: Zero (2017)     0.205447\n",
       "9739   193585                               Flint (2017)     0.318679\n",
       "9740   193587        Bungo Stray Dogs: Dead Apple (2018)     0.102097\n",
       "9741   193609        Andrew Dice Clay: Dice Rules (1991)     0.276886\n",
       "\n",
       "[9742 rows x 3 columns]"
      ]
     },
     "execution_count": 106,
     "metadata": {},
     "output_type": "execute_result"
    }
   ],
   "source": [
    "# Compute genre-based scores for a user based on their past ratings and genre similarity\n",
    "def get_genre_scores(user_id, ratings,  movies, genre_similarity):\n",
    "    # Get movies the user has rated\n",
    "    user_movies = ratings[ratings['userId'] == user_id].merge(movies, on = 'movieId')\n",
    "    \n",
    "    if user_movies.empty:\n",
    "        print(f\"user {user_id} has no ratings, using global genre preferences.\")\n",
    "        \n",
    "        # Computing global average genre score\n",
    "        global_genre_scores = np.mean(genre_similarity, axis = 0)\n",
    "\n",
    "        genre_df = pd.DataFrame({\n",
    "            'movieId': movies['movieId'], \n",
    "            'title': movies['title'],\n",
    "            'genre_score': global_genre_scores\n",
    "        })\n",
    "\n",
    "        return genre_df\n",
    "    \n",
    "    # Compute genre similarity scores\n",
    "    genre_scores = np.zeros(len(movies))\n",
    "\n",
    "    for movie_id in user_movies['movieId']:\n",
    "        movie_idx = movies.index[movies['movieId'] == movie_id][0]\n",
    "        genre_scores += genre_similarity[movie_idx] * user_movies[user_movies['movieId'] == movie_id]['rating'].values[0]\n",
    "\n",
    "    # Normalize\n",
    "    genre_scores /= len(user_movies)\n",
    "    \n",
    "    # Create DataFrame\n",
    "    genre_df = pd.DataFrame({\n",
    "        'movieId': movies['movieId'], \n",
    "        'title': movies['title'],\n",
    "        'genre_score': genre_scores\n",
    "    })\n",
    "\n",
    "    return genre_df\n",
    "\n",
    "genre_similarity = compute_genre_similarity(movies)\n",
    "\n",
    "get_genre_scores(99999, ratings, movies, genre_similarity)"
   ]
  },
  {
   "cell_type": "markdown",
   "id": "368b4eaa-c3b6-4217-be33-fbc12c4b6335",
   "metadata": {},
   "source": [
    "## 11:Hybrid Recommendations\n",
    "This function, hybrid_recommendations, implements a hybrid movie recommendation system by combining two different types of models: Collaborative Filtering (CF) and Content-Based Filtering (CBF).\n",
    "\n",
    "The final score for each movie is calculated using the formula:\n",
    "$$\n",
    "\\text{final score} = \\alpha \\times \\text{SVD score} + (1 - \\alpha) \\times \\text{Genre score}\n",
    "$$\n",
    "where \n",
    "𝛼 controls the weight of CF vs. CBF."
   ]
  },
  {
   "cell_type": "code",
   "execution_count": 89,
   "id": "fd858722-5b21-4afe-98fe-13e2c0f71f04",
   "metadata": {},
   "outputs": [],
   "source": [
    "def hybrid_recommendations(user_id, movies, ratings, best_model, genre_similarity, alpha = 0.5):\n",
    "    \n",
    "    # Getting CF (SVD) and CBF (genre_similarity) predictions for the user\n",
    "    svd_df = get_svd_predictions(user_id, movies, ratings, best_model)\n",
    "    genre_df = get_genre_scores(user_id, ratings, movies, genre_similarity)\n",
    "\n",
    "    # merging both dataframes\n",
    "    hybrid_df = svd_df.merge(genre_df, on = 'movieId')\n",
    "\n",
    "    # Computing final score (weighted blend)\n",
    "    hybrid_df['final_score'] = alpha * hybrid_df['svd_score'] + (1 - alpha) * hybrid_df['genre_score']\n",
    "\n",
    "    # Get top recommendations\n",
    "    top_movies = hybrid_df.sort_values(by = 'final_score', ascending = False).head(10)\n",
    "\n",
    "    top_movies = top_movies.merge(movies[['movieId', 'title']], on = 'movieId')\n",
    "\n",
    "    return top_movies[['movieId', 'title', 'final_score']]"
   ]
  },
  {
   "cell_type": "code",
   "execution_count": 90,
   "id": "2e9f3ea5-5177-410b-af68-a2bcd814fa53",
   "metadata": {},
   "outputs": [
    {
     "name": "stdout",
     "output_type": "stream",
     "text": [
      "    movieId                                        title  final_score  userId\n",
      "0      1197                   Princess Bride, The (1987)     3.945057       1\n",
      "1      1262                     Great Escape, The (1963)     3.931050       1\n",
      "2      2959                            Fight Club (1999)     3.915048       1\n",
      "3      2019  Seven Samurai (Shichinin no samurai) (1954)     3.914483       1\n",
      "4      6016          City of God (Cidade de Deus) (2002)     3.912943       1\n",
      "..      ...                                          ...          ...     ...\n",
      "5      1276                        Cool Hand Luke (1967)     3.682857      29\n",
      "6      1262                     Great Escape, The (1963)     3.680043      29\n",
      "7      3275                  Boondock Saints, The (2000)     3.668887      29\n",
      "8      1104             Streetcar Named Desire, A (1951)     3.652272      29\n",
      "9      1233                 Boot, Das (Boat, The) (1981)     3.651452      29\n",
      "\n",
      "[290 rows x 4 columns]\n"
     ]
    }
   ],
   "source": [
    "results = []\n",
    "\n",
    "for i in range(1, 30):\n",
    "    recommendations = hybrid_recommendations(i, movies, ratings, best_model, genre_similarity, 0.7)\n",
    "    recommendations['userId'] = i\n",
    "    results.append(recommendations)\n",
    "\n",
    "final_df = pd.concat(results)\n",
    "\n",
    "print(final_df)"
   ]
  },
  {
   "cell_type": "markdown",
   "id": "0c3a5bd3-8bb1-453e-b16c-cd80ed8e36e6",
   "metadata": {},
   "source": [
    "These are the movie recommendations for the selected users."
   ]
  },
  {
   "cell_type": "markdown",
   "id": "7e6db146-3a37-425e-aaaf-1174a290deaf",
   "metadata": {},
   "source": [
    "## 12:Evaluating SVD Predictions.\n",
    "Function Logic: Comparing Actual vs. Predicted\n",
    "The function follows these steps to measure the model's error:\n",
    "\n",
    "Get Predictions (svd_df): It calls a helper function, get_svd_predictions, to predict the rating for every movie in the dataset for the given user_id. This is the model's best guess.\n",
    "\n",
    "Get Actual Ratings (user_actual_ratings): It filters the main ratings DataFrame to find the true ratings the user actually gave to movies in the past.\n",
    "\n",
    "Merge and Align: It merges the predicted ratings (svd_df) with the actual ratings (user_actual_ratings) based on movieId. This creates a combined DataFrame (merged_df) that only includes the movies the user has actually rated, allowing for a direct comparison.\n",
    "\n",
    "Error Check: If merged_df is empty (meaning the user has no past ratings or the prediction model didn't cover them), it skips the evaluation.\n",
    "\n",
    "Calculate Metrics: It computes two standard error metrics by comparing the actual ratings (merged_df['rating']) with the predicted scores (merged_df['svd_score'])."
   ]
  },
  {
   "cell_type": "code",
   "execution_count": 92,
   "id": "c957ca04-f6d4-4941-817b-d47dcf1c01e9",
   "metadata": {},
   "outputs": [
    {
     "name": "stdout",
     "output_type": "stream",
     "text": [
      "SVD RMSE: 0.7129, SVD MAE: 0.5580\n"
     ]
    }
   ],
   "source": [
    "\n",
    "def evaluate_svd(user_id, movies, ratings, best_model):\n",
    "    # Get SVD predictions for all movies\n",
    "    svd_df = get_svd_predictions(user_id, movies, ratings, best_model)\n",
    "\n",
    "    # Get the actual user ratings\n",
    "    user_actual_ratings = ratings[ratings['userId'] == user_id][['movieId', 'rating']]\n",
    "    \n",
    "    # Merge predicted and actual ratings\n",
    "    merged_df = svd_df.merge(user_actual_ratings, on='movieId')\n",
    "\n",
    "    if merged_df.empty:\n",
    "        print(f\"No common movies found for user {user_id}. Skipping evaluation.\")\n",
    "        return None, None, None\n",
    "\n",
    "    # Calculating RMSE and MAE\n",
    "    rmse = np.sqrt(mean_squared_error(merged_df['rating'], merged_df['svd_score']))\n",
    "    mae = mean_absolute_error(merged_df['rating'], merged_df['svd_score'])\n",
    "\n",
    "    return merged_df, rmse, mae\n",
    "\n",
    "# Example usage:\n",
    "svd_results, svd_rmse, svd_mae = evaluate_svd(1, movies, ratings, best_model)\n",
    "print(f\"SVD RMSE: {svd_rmse:.4f}, SVD MAE: {svd_mae:.4f}\")\n"
   ]
  },
  {
   "cell_type": "markdown",
   "id": "1745834a-d5bc-4966-b76c-5a45043e377b",
   "metadata": {},
   "source": [
    "## 13 Evaluating Hybrid Predictions\n",
    "It evaluates the accuracy of the combined (hybrid) recommendation system for a specific user, similar to how evaluate_svd works, but using the blended scores.\n",
    "* Function Logic: Hybrid Evaluation\n",
    "Generate Hybrid Scores (hybrid_df): It first calls hybrid_recommendations (the function you previously analyzed) to generate a set of recommendations. Importantly, this function calculates a final_score for every movie, which is the weighted average of the SVD prediction and the Genre score (using the alpha weight, which is 0.7 by default).\n",
    "\n",
    "Access Actual Ratings: It retrieves the true ratings the user has given in the past.\n",
    "\n",
    "Merge and Align: It merges the predicted hybrid scores (hybrid_df) with the actual ratings (user_actual_ratings) on movieId.\n",
    "\n",
    "Crucial Difference: The hybrid_recommendations function typically returns only the top 10 recommendations. Therefore, this merged_df will only contain the actual ratings for movies that were present in that top 10 list. This is a potential limitation for a comprehensive error evaluation, as the metrics are based only on a small subset of the user's rated movies.\n",
    "\n",
    "Error Check: If no common movies are found (e.g., the user hasn't rated any of the movies in the top 10), it skips the evaluation.\n",
    "\n",
    "Calculate Metrics (RMSE & MAE): It computes the Root Mean Squared Error (RMSE) and Mean Absolute Error (MAE) by comparing the actual ratings (merged_df['rating']) with the predicted hybrid scores (merged_df['final_score']).\n",
    "\n"
   ]
  },
  {
   "cell_type": "code",
   "execution_count": 94,
   "id": "246d7c1c-a3b3-4ddb-b39d-5a619e19f493",
   "metadata": {},
   "outputs": [
    {
     "name": "stdout",
     "output_type": "stream",
     "text": [
      "   movieId                              title  final_score  rating\n",
      "0      898     Philadelphia Story, The (1940)     3.432452     5.0\n",
      "1      914                My Fair Lady (1964)     3.315927     5.0\n",
      "2       58  Postman, The (Postino, Il) (1994)     3.278857     3.0\n",
      " Hybrid RMSE: 1.3380420623777, Hybrid MAE: 1.176825864641421\n"
     ]
    }
   ],
   "source": [
    "def evaluate_hybrid(user_id, movies, ratings, best_model, genre_similarity, alpha = 0.7):\n",
    "    \n",
    "    \"\"\"\n",
    "    best_model: Trained SVD model for CF.\n",
    "    genre_similarity: Cosine similarity matrix for genres.\n",
    "    alpha: Weight parameter to balance SVD and genre-based filtering.\n",
    "    \"\"\"\n",
    "    # Get hybrid recommendations for a user\n",
    "    hybrid_df = hybrid_recommendations(user_id, movies, ratings, best_model, genre_similarity, alpha)\n",
    "    \n",
    "    # Accessing the actual user ratings\n",
    "    user_actual_ratings = ratings[ratings['userId'] == user_id][['movieId', 'rating']]\n",
    "    \n",
    "    # Merging predictions with actual ratings\n",
    "    merged_df = hybrid_df.merge(user_actual_ratings, on = 'movieId')\n",
    "\n",
    "    # Skip if merged dataframe is empty\n",
    "    if merged_df.empty:\n",
    "        print(f\"No common movies found for user {user_id}. Skipping evaluation.\")\n",
    "        return None, None, None\n",
    "\n",
    "    # Calculate the RMSE and MAE\n",
    "    rmse = np.sqrt(mean_squared_error(merged_df['rating'], merged_df['final_score']))\n",
    "    mae = mean_absolute_error(merged_df['rating'], merged_df['final_score'])\n",
    "\n",
    "    return merged_df, rmse, mae\n",
    "\n",
    "hybrid_results, hybrid_rmse, hybrid_mae = evaluate_hybrid(4, movies, ratings, best_model, genre_similarity)\n",
    "\n",
    "print(hybrid_results)\n",
    "print(f\" Hybrid RMSE: {hybrid_rmse}, Hybrid MAE: {hybrid_mae}\")"
   ]
  },
  {
   "cell_type": "markdown",
   "id": "17f09cc7-83db-44a1-b588-fb16ae6e0674",
   "metadata": {},
   "source": [
    "## 14:Performance comparison between two recommendation models—the pure Collaborative Filtering (SVD) model and the Hybrid (SVD + Genre) \n",
    "The goal is to see which model generally yields better prediction accuracy (lower error) at the individual user level.\n",
    "\n"
   ]
  },
  {
   "cell_type": "code",
   "execution_count": 97,
   "id": "93c632ae-de3d-44ea-ac22-7e403b315829",
   "metadata": {},
   "outputs": [
    {
     "name": "stdout",
     "output_type": "stream",
     "text": [
      "Evaluating for User 553...\n",
      "Evaluating for User 297...\n",
      "Evaluating for User 31...\n",
      "Evaluating for User 216...\n",
      "Evaluating for User 264...\n",
      "Evaluating for User 50...\n",
      "Evaluating for User 407...\n",
      "Evaluating for User 386...\n",
      "Evaluating for User 138...\n",
      "Evaluating for User 84...\n",
      "   userId  SVD RMSE   SVD MAE  Hybrid RMSE  Hybrid MAE\n",
      "0     553  0.577174  0.489996     0.928626    0.928291\n",
      "1     297  0.971066  0.837756     1.764553    1.696757\n",
      "2      31  0.938781  0.762813     1.361922    1.361922\n",
      "3     216  0.873058  0.744948     1.559101    1.557747\n",
      "4     264  0.954711  0.780962     0.231203    0.231203\n",
      "5      50  0.694520  0.563302     1.335397    1.263678\n",
      "6     407  0.814939  0.708814     0.990158    0.860113\n",
      "7     386  0.754344  0.586243     1.518466    1.179017\n",
      "8     138  1.368049  1.151470     1.548507    1.548507\n",
      "9      84  0.627832  0.496875     1.111640    0.990111\n"
     ]
    }
   ],
   "source": [
    "# Select 10 random user IDs from the ratings dataset\n",
    "random.seed(30)\n",
    "random_user_ids = random.sample(ratings['userId'].unique().tolist(), 10)\n",
    "\n",
    "# Store results\n",
    "results = []\n",
    "\n",
    "for user_id in random_user_ids:\n",
    "    print(f\"Evaluating for User {user_id}...\")\n",
    "\n",
    "    svd_results, svd_rmse, svd_mae = evaluate_svd(user_id, movies, ratings, best_model)\n",
    "    hybrid_results, hybrid_rmse, hybrid_mae = evaluate_hybrid(user_id, movies, ratings, best_model, genre_similarity)\n",
    "\n",
    "    results.append({\n",
    "        \"userId\": user_id,\n",
    "        \"SVD RMSE\": svd_rmse,\n",
    "        \"SVD MAE\": svd_mae,\n",
    "        \"Hybrid RMSE\": hybrid_rmse,\n",
    "        \"Hybrid MAE\": hybrid_mae\n",
    "    })\n",
    "\n",
    "# Convert results to a DataFrame for better visualization\n",
    "results_df = pd.DataFrame(results)\n",
    "print(results_df)"
   ]
  },
  {
   "cell_type": "markdown",
   "id": "5bb8e99b-466f-49a9-996a-4a4e7e5b99cd",
   "metadata": {},
   "source": [
    "## 15: Bar chart\n",
    "This is a two side-by-side bar charts used to visually compare the overall average performance of the pure SVD (Collaborative Filtering) model against the Hybrid (SVD + Genre) model, based on the evaluation results from the 10 randomly selected users.The SVD model has an average RMSE of ~0.8 and an average MAE of ~0.7 compared to the average RMSE and MAE of the Hybrid model which are ~1.3 and ~1.2 respectively. The SVD model outperforms the Hybrid model."
   ]
  },
  {
   "cell_type": "code",
   "execution_count": 102,
   "id": "d7f32117-43a3-4ad7-bb69-bb25c46b3310",
   "metadata": {},
   "outputs": [
    {
     "data": {
      "image/png": "[encoded data removed]",
      "text/plain": [
       "<Figure size 1200x500 with 2 Axes>"
      ]
     },
     "metadata": {},
     "output_type": "display_data"
    }
   ],
   "source": [
    "# Set up figure\n",
    "fig, axes = plt.subplots(1, 2, figsize = (12, 5))\n",
    "\n",
    "# RMSE Comparison\n",
    "sns.barplot(x = [\"SVD\", \"Hybrid\"], y = [results_df[\"SVD RMSE\"].mean(), results_df[\"Hybrid RMSE\"].mean()], ax = axes[0], palette = \"viridis\",\n",
    "            hue = [\"SVD\", \"Hybrid\"])\n",
    "axes[0].set_title(\"Average RMSE Comparison\")\n",
    "axes[0].set_ylabel(\"RMSE\")\n",
    "\n",
    "# MAE Comparison\n",
    "sns.barplot(x = [\"SVD\", \"Hybrid\"], y=[results_df[\"SVD MAE\"].mean(), results_df[\"Hybrid MAE\"].mean()], ax = axes[1], palette = \"rocket\",\n",
    "            hue = [\"SVD\", \"Hybrid\"])\n",
    "axes[1].set_title(\"Average MAE Comparison\")\n",
    "axes[1].set_ylabel(\"MAE\")\n",
    "\n",
    "plt.tight_layout()\n",
    "plt.show()"
   ]
  },
  {
   "cell_type": "markdown",
   "id": "a33f78c3-1750-421a-999b-92c148b02272",
   "metadata": {},
   "source": [
    "## 16: Scatter Plot\n",
    "This is a scatter plot comparing the predicted movie ratings from two different recommendation models (SVD and Hybrid) against the users' actual ratings.The plot visually represents the accuracy and bias of each model across the rated movies of 30 randomly selected users.\n",
    "\n",
    "The plot shows that the Hybrid model's predictions (orange dots) are generally tighter and closer to the line of perfect prediction for the movies it recommends (high actual ratings).\n",
    "\n",
    "This suggests that, at the crucial task of identifying and scoring the best movies for a user (where ratings are high), the Hybrid model demonstrates higher prediction accuracy and less variance compared to the SVD model's overall performance. This is strong evidence that blending genre similarity with collaborative filtering improves the quality of the top recommendations."
   ]
  },
  {
   "cell_type": "code",
   "execution_count": 103,
   "id": "d286966d-0d59-442b-8606-86dce4c21619",
   "metadata": {},
   "outputs": [
    {
     "name": "stdout",
     "output_type": "stream",
     "text": [
      "No common movies found for user 535. Skipping evaluation.\n",
      "Warning: No results found for User 535. Skipping...\n",
      "No common movies found for user 544. Skipping evaluation.\n",
      "Warning: No results found for User 544. Skipping...\n",
      "No common movies found for user 576. Skipping evaluation.\n",
      "Warning: No results found for User 576. Skipping...\n",
      "No common movies found for user 507. Skipping evaluation.\n",
      "Warning: No results found for User 507. Skipping...\n",
      "No common movies found for user 320. Skipping evaluation.\n",
      "Warning: No results found for User 320. Skipping...\n"
     ]
    },
    {
     "data": {
      "image/png": "[encoded data removed]",
      "text/plain": [
       "<Figure size 1000x500 with 1 Axes>"
      ]
     },
     "metadata": {},
     "output_type": "display_data"
    }
   ],
   "source": [
    "# Select 30 random user IDs\n",
    "random_user_ids = random.sample(ratings['userId'].unique().tolist(), 30)\n",
    "\n",
    "# Store merged results for all users\n",
    "all_svd_merged = []\n",
    "all_hybrid_merged = []\n",
    "\n",
    "for user_id in random_user_ids:\n",
    "    # Get predictions for the current user\n",
    "    svd_results, _, _ = evaluate_svd(user_id, movies, ratings, best_model)\n",
    "    hybrid_results, _, _ = evaluate_hybrid(user_id, movies, ratings, best_model, genre_similarity)\n",
    "\n",
    "    # Making sure that user's rating exists for the movie\n",
    "    if svd_results is not None and hybrid_results is not None:\n",
    "        \n",
    "        # Merge with actual ratings\n",
    "        actual_ratings = ratings[ratings[\"userId\"] == user_id][[\"movieId\", \"rating\"]]\n",
    "        svd_merged = svd_results.merge(actual_ratings, on = \"movieId\")\n",
    "        hybrid_merged = hybrid_results.merge(actual_ratings, on = \"movieId\")\n",
    "\n",
    "        # Append to the lists\n",
    "        all_svd_merged.append(svd_merged)\n",
    "        all_hybrid_merged.append(hybrid_merged)\n",
    "    else:\n",
    "        # If user does not have a rating for a movie\n",
    "        print(f\"Warning: No results found for User {user_id}. Skipping...\")\n",
    "\n",
    "# Concatenate results for all users\n",
    "if all_svd_merged and all_hybrid_merged:\n",
    "    svd_merged_all = pd.concat(all_svd_merged)\n",
    "    hybrid_merged_all = pd.concat(all_hybrid_merged)\n",
    "\n",
    "svd_merged_all = pd.concat(all_svd_merged)\n",
    "hybrid_merged_all = pd.concat(all_hybrid_merged)\n",
    "\n",
    "# Scatter plot for predictions vs actual ratings\n",
    "plt.figure(figsize = (10, 5))\n",
    "plt.scatter(svd_merged_all[\"rating_x\"], svd_merged_all[\"svd_score\"], label = \"SVD\", alpha = 0.6)\n",
    "plt.scatter(hybrid_merged_all[\"rating_x\"], hybrid_merged_all[\"final_score\"], label = \"Hybrid\", alpha = 0.6)\n",
    "\n",
    "plt.plot([0, 5], [0, 5], \"--\", color = \"gray\")\n",
    "plt.xlabel(\"Actual Ratings\")\n",
    "plt.ylabel(\"Predicted Ratings\")\n",
    "plt.title(\"Predicted vs Actual Ratings for 30 Users\")\n",
    "plt.legend()\n",
    "plt.show()"
   ]
  },
  {
   "cell_type": "markdown",
   "id": "455a93f8-a336-4a77-83e0-d45fe1a9a0ba",
   "metadata": {},
   "source": [
    "## 17:Kernel Density Estimate (KDE) plot.\n",
    "Showing the distribution of prediction errors for the SVD (Collaborative Filtering) model and the Hybrid (SVD + Genre) model.\n",
    "\n",
    "The prediction error is calculated as: Error = Predicted Rating - Actual Rating.\n",
    "The plot demonstrates that the Hybrid Model is significantly more accurate and precise than the SVD model, but with a different kind of bias.\n",
    "\n",
    "Accuracy/Precision: The Hybrid errors are more tightly clustered (narrower distribution), indicating lower variance and likely lower average error (MAE/RMSE). The model is more reliable in the magnitude of its error.\n",
    "\n",
    "Bias Trade-off: The SVD model is relatively unbiased but highly inaccurate (wide spread). The Hybrid model is highly accurate (narrow spread) but has a pessimistic bias (under-predicts ratings). Since the goal of a recommender system is typically to rank the best movies correctly, having a lower magnitude of error (tighter spread) is usually preferred, even if it introduces a consistent bias."
   ]
  },
  {
   "cell_type": "code",
   "execution_count": 104,
   "id": "94a3b84f-a28c-4ab9-ba74-bb05b06ccca6",
   "metadata": {},
   "outputs": [
    {
     "data": {
      "image/png": "[encoded data removed]",
      "text/plain": [
       "<Figure size 1000x500 with 1 Axes>"
      ]
     },
     "metadata": {},
     "output_type": "display_data"
    }
   ],
   "source": [
    "svd_errors = svd_merged_all[\"svd_score\"] - svd_merged_all[\"rating_x\"]\n",
    "hybrid_errors = hybrid_merged_all[\"final_score\"] - hybrid_merged_all[\"rating_x\"]\n",
    "\n",
    "plt.figure(figsize = (10, 5))\n",
    "sns.kdeplot(svd_errors, label = \"SVD Errors\", fill = True, color = \"blue\", alpha = 0.6)\n",
    "sns.kdeplot(hybrid_errors, label = \"Hybrid Errors\", fill = True, color = \"red\", alpha = 0.6)\n",
    "\n",
    "plt.axvline(0, color = \"black\", linestyle = \"dashed\", linewidth = 1)\n",
    "plt.xlabel(\"Prediction Error\")\n",
    "plt.ylabel(\"Density\")\n",
    "plt.title(\"Error Distribution of SVD vs Hybrid Model\")\n",
    "plt.legend()\n",
    "plt.show()"
   ]
  },
  {
   "cell_type": "code",
   "execution_count": null,
   "id": "83ac4b08-6bf6-4fb4-a834-4a89e72ac9c1",
   "metadata": {},
   "outputs": [],
   "source": []
  }
 ],
 "metadata": {
  "kernelspec": {
   "display_name": "Python [conda env:base] *",
   "language": "python",
   "name": "conda-base-py"
  },
  "language_info": {
   "codemirror_mode": {
    "name": "ipython",
    "version": 3
   },
   "file_extension": ".py",
   "mimetype": "text/x-python",
   "name": "python",
   "nbconvert_exporter": "python",
   "pygments_lexer": "ipython3",
   "version": "3.12.3"
  }
 },
 "nbformat": 4,
 "nbformat_minor": 5
}
